{
 "cells": [
  {
   "cell_type": "code",
   "execution_count": 1,
   "metadata": {
    "ExecuteTime": {
     "end_time": "2021-04-15T05:09:33.194438Z",
     "start_time": "2021-04-15T05:09:31.348762Z"
    },
    "colab": {
     "base_uri": "https://localhost:8080/"
    },
    "id": "chqSP6ArBvfj",
    "outputId": "835f0872-549a-4b0d-8e9e-f39dd40676c7",
    "tags": [
     "parameters"
    ]
   },
   "outputs": [],
   "source": [
    "dim=8000"
   ]
  },
  {
   "cell_type": "code",
   "execution_count": 2,
   "metadata": {
    "id": "dHdDqi8JBvfl"
   },
   "outputs": [
    {
     "name": "stderr",
     "output_type": "stream",
     "text": [
      "2021-11-28 03:04:33.767581: I tensorflow/stream_executor/platform/default/dso_loader.cc:49] Successfully opened dynamic library libcudart.so.11.0\n"
     ]
    },
    {
     "name": "stdout",
     "output_type": "stream",
     "text": [
      "Device mapping: no known devices.\n"
     ]
    },
    {
     "name": "stderr",
     "output_type": "stream",
     "text": [
      "2021-11-28 03:04:35.396420: I tensorflow/core/platform/cpu_feature_guard.cc:142] This TensorFlow binary is optimized with oneAPI Deep Neural Network Library (oneDNN) to use the following CPU instructions in performance-critical operations:  AVX2 AVX512F FMA\n",
      "To enable them in other operations, rebuild TensorFlow with the appropriate compiler flags.\n",
      "2021-11-28 03:04:35.399920: I tensorflow/compiler/jit/xla_gpu_device.cc:99] Not creating XLA devices, tf_xla_enable_xla_devices not set\n",
      "2021-11-28 03:04:35.400090: W tensorflow/stream_executor/platform/default/dso_loader.cc:60] Could not load dynamic library 'libcuda.so.1'; dlerror: libcuda.so.1: cannot open shared object file: No such file or directory; LD_LIBRARY_PATH: /usr/local/nvidia/lib:/usr/local/nvidia/lib64\n",
      "2021-11-28 03:04:35.400112: W tensorflow/stream_executor/cuda/cuda_driver.cc:326] failed call to cuInit: UNKNOWN ERROR (303)\n",
      "2021-11-28 03:04:35.400139: I tensorflow/stream_executor/cuda/cuda_diagnostics.cc:156] kernel driver does not appear to be running on this host (jupyterhub-nb-dfeddema): /proc/driver/nvidia/version does not exist\n",
      "2021-11-28 03:04:35.404985: I tensorflow/compiler/mlir/mlir_graph_optimization_pass.cc:196] None of the MLIR optimization passes are enabled (registered 0 passes)\n",
      "2021-11-28 03:04:35.405272: I tensorflow/core/common_runtime/placer.cc:114] random_uniform/RandomUniform: (RandomUniform): /job:localhost/replica:0/task:0/device:CPU:0\n",
      "2021-11-28 03:04:35.405316: I tensorflow/core/common_runtime/placer.cc:114] transpose: (Transpose): /job:localhost/replica:0/task:0/device:CPU:0\n",
      "2021-11-28 03:04:35.405332: I tensorflow/core/common_runtime/placer.cc:114] MatMul: (MatMul): /job:localhost/replica:0/task:0/device:CPU:0\n",
      "2021-11-28 03:04:35.405347: I tensorflow/core/common_runtime/placer.cc:114] Sum: (Sum): /job:localhost/replica:0/task:0/device:CPU:0\n",
      "2021-11-28 03:04:35.405362: I tensorflow/core/common_runtime/placer.cc:114] random_uniform/shape: (Const): /job:localhost/replica:0/task:0/device:CPU:0\n",
      "2021-11-28 03:04:35.405377: I tensorflow/core/common_runtime/placer.cc:114] transpose/perm: (Const): /job:localhost/replica:0/task:0/device:CPU:0\n",
      "2021-11-28 03:04:35.405391: I tensorflow/core/common_runtime/placer.cc:114] Const: (Const): /job:localhost/replica:0/task:0/device:CPU:0\n",
      "2021-11-28 03:04:35.417398: I tensorflow/core/platform/profile_utils/cpu_utils.cc:112] CPU Frequency: 2499995000 Hz\n"
     ]
    },
    {
     "name": "stdout",
     "output_type": "stream",
     "text": [
      "random_uniform/RandomUniform: (RandomUniform): /job:localhost/replica:0/task:0/device:CPU:0\n",
      "transpose: (Transpose): /job:localhost/replica:0/task:0/device:CPU:0\n",
      "MatMul: (MatMul): /job:localhost/replica:0/task:0/device:CPU:0\n",
      "Sum: (Sum): /job:localhost/replica:0/task:0/device:CPU:0\n",
      "random_uniform/shape: (Const): /job:localhost/replica:0/task:0/device:CPU:0\n",
      "transpose/perm: (Const): /job:localhost/replica:0/task:0/device:CPU:0\n",
      "Const: (Const): /job:localhost/replica:0/task:0/device:CPU:0\n",
      "128000400000.0\n",
      "\n",
      "\n",
      "\n",
      "\n",
      "\n",
      "\n",
      "Shape: (8000, 8000) Device: /CPU:0\n",
      "Time taken: 0:00:00.586510\n",
      "\n",
      "\n",
      "\n",
      "\n",
      "\n",
      "\n"
     ]
    }
   ],
   "source": [
    "import sys\n",
    "import numpy as np\n",
    "import tensorflow as tf\n",
    "from datetime import datetime\n",
    "\n",
    "tf.compat.v1.disable_eager_execution()\n",
    "\n",
    "dim = int(config['dim'])\n",
    "shape = (dim, dim)\n",
    "device_name = \"/CPU:0\"\n",
    "\n",
    "with tf.device('/CPU:0'):\n",
    "    random_matrix = tf.random.uniform(shape=shape, minval=0, maxval=1)\n",
    "    dot_operation = tf.matmul(random_matrix, tf.transpose(random_matrix))\n",
    "    sum_operation = tf.reduce_sum(dot_operation)\n",
    "\n",
    "\n",
    "startTime = datetime.now()\n",
    "with tf.compat.v1.Session(config=tf.compat.v1.ConfigProto(log_device_placement=True)) as session:\n",
    "        result = session.run(sum_operation)\n",
    "        print(result)\n",
    "\n",
    "print(\"\\n\" * 5)\n",
    "print(\"Shape:\", shape, \"Device:\", device_name)\n",
    "print(\"Time taken:\", datetime.now() - startTime)\n",
    "\n",
    "print(\"\\n\" * 5)"
   ]
  },
  {
   "cell_type": "code",
   "execution_count": null,
   "metadata": {
    "ExecuteTime": {
     "end_time": "2021-04-15T05:09:26.587680Z",
     "start_time": "2021-04-15T05:09:26.550551Z"
    },
    "id": "lqtytOuKBvfl"
   },
   "outputs": [],
   "source": []
  }
 ],
 "metadata": {
  "accelerator": "GPU",
  "colab": {
   "name": "matmul_cpu.ipynb",
   "provenance": []
  },
  "kernelspec": {
   "display_name": "Python 3 (ipykernel)",
   "language": "python",
   "name": "python3"
  },
  "language_info": {
   "codemirror_mode": {
    "name": "ipython",
    "version": 3
   },
   "file_extension": ".py",
   "mimetype": "text/x-python",
   "name": "python",
   "nbconvert_exporter": "python",
   "pygments_lexer": "ipython3",
   "version": "3.8.6"
  },
  "toc": {
   "base_numbering": 1,
   "nav_menu": {},
   "number_sections": true,
   "sideBar": true,
   "skip_h1_title": false,
   "title_cell": "Table of Contents",
   "title_sidebar": "Contents",
   "toc_cell": false,
   "toc_position": {},
   "toc_section_display": true,
   "toc_window_display": false
  }
 },
 "nbformat": 4,
 "nbformat_minor": 4
}
